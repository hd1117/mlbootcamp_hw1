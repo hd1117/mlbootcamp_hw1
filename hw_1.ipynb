{
 "cells": [
  {
   "cell_type": "code",
   "execution_count": 1,
   "outputs": [],
   "source": [
    "# Imports\n",
    "import numpy as np\n",
    "import pandas as pd\n",
    "import matplotlib.pyplot as plt"
   ],
   "metadata": {
    "collapsed": false,
    "pycharm": {
     "name": "#%%\n"
    }
   }
  },
  {
   "cell_type": "code",
   "execution_count": 4,
   "outputs": [
    {
     "name": "stdout",
     "output_type": "stream",
     "text": [
      "<class 'pandas.core.frame.DataFrame'>\n",
      "RangeIndex: 11914 entries, 0 to 11913\n",
      "Data columns (total 16 columns):\n",
      " #   Column             Non-Null Count  Dtype  \n",
      "---  ------             --------------  -----  \n",
      " 0   Make               11914 non-null  object \n",
      " 1   Model              11914 non-null  object \n",
      " 2   Year               11914 non-null  int64  \n",
      " 3   Engine Fuel Type   11911 non-null  object \n",
      " 4   Engine HP          11845 non-null  float64\n",
      " 5   Engine Cylinders   11884 non-null  float64\n",
      " 6   Transmission Type  11914 non-null  object \n",
      " 7   Driven_Wheels      11914 non-null  object \n",
      " 8   Number of Doors    11908 non-null  float64\n",
      " 9   Market Category    8172 non-null   object \n",
      " 10  Vehicle Size       11914 non-null  object \n",
      " 11  Vehicle Style      11914 non-null  object \n",
      " 12  highway MPG        11914 non-null  int64  \n",
      " 13  city mpg           11914 non-null  int64  \n",
      " 14  Popularity         11914 non-null  int64  \n",
      " 15  MSRP               11914 non-null  int64  \n",
      "dtypes: float64(3), int64(5), object(8)\n",
      "memory usage: 1.5+ MB\n",
      "None\n"
     ]
    }
   ],
   "source": [
    "# Read in csv to pandas\n",
    "df = pd.read_csv('data.csv')\n",
    "print(df.info())"
   ],
   "metadata": {
    "collapsed": false,
    "pycharm": {
     "name": "#%%\n"
    }
   }
  },
  {
   "cell_type": "code",
   "execution_count": 9,
   "outputs": [
    {
     "name": "stdout",
     "output_type": "stream",
     "text": [
      "['BMW' 'Audi' 'FIAT' 'Mercedes-Benz' 'Chrysler' 'Nissan' 'Volvo' 'Mazda'\n",
      " 'Mitsubishi' 'Ferrari' 'Alfa Romeo' 'Toyota' 'McLaren' 'Maybach'\n",
      " 'Pontiac' 'Porsche' 'Saab' 'GMC' 'Hyundai' 'Plymouth' 'Honda'\n",
      " 'Oldsmobile' 'Suzuki' 'Ford' 'Cadillac' 'Kia' 'Bentley' 'Chevrolet'\n",
      " 'Dodge' 'Lamborghini' 'Lincoln' 'Subaru' 'Volkswagen' 'Spyker' 'Buick'\n",
      " 'Acura' 'Rolls-Royce' 'Maserati' 'Lexus' 'Aston Martin' 'Land Rover'\n",
      " 'Lotus' 'Infiniti' 'Scion' 'Genesis' 'HUMMER' 'Tesla' 'Bugatti']\n"
     ]
    },
    {
     "data": {
      "text/plain": "  Make       Model  Year             Engine Fuel Type  Engine HP  \\\n0  BMW  1 Series M  2011  premium unleaded (required)      335.0   \n1  BMW    1 Series  2011  premium unleaded (required)      300.0   \n2  BMW    1 Series  2011  premium unleaded (required)      300.0   \n3  BMW    1 Series  2011  premium unleaded (required)      230.0   \n4  BMW    1 Series  2011  premium unleaded (required)      230.0   \n\n   Engine Cylinders Transmission Type     Driven_Wheels  Number of Doors  \\\n0               6.0            MANUAL  rear wheel drive              2.0   \n1               6.0            MANUAL  rear wheel drive              2.0   \n2               6.0            MANUAL  rear wheel drive              2.0   \n3               6.0            MANUAL  rear wheel drive              2.0   \n4               6.0            MANUAL  rear wheel drive              2.0   \n\n                         Market Category Vehicle Size Vehicle Style  \\\n0  Factory Tuner,Luxury,High-Performance      Compact         Coupe   \n1                     Luxury,Performance      Compact   Convertible   \n2                Luxury,High-Performance      Compact         Coupe   \n3                     Luxury,Performance      Compact         Coupe   \n4                                 Luxury      Compact   Convertible   \n\n   highway MPG  city mpg  Popularity   MSRP  \n0           26        19        3916  46135  \n1           28        19        3916  40650  \n2           28        20        3916  36350  \n3           28        18        3916  29450  \n4           28        18        3916  34500  ",
      "text/html": "<div>\n<style scoped>\n    .dataframe tbody tr th:only-of-type {\n        vertical-align: middle;\n    }\n\n    .dataframe tbody tr th {\n        vertical-align: top;\n    }\n\n    .dataframe thead th {\n        text-align: right;\n    }\n</style>\n<table border=\"1\" class=\"dataframe\">\n  <thead>\n    <tr style=\"text-align: right;\">\n      <th></th>\n      <th>Make</th>\n      <th>Model</th>\n      <th>Year</th>\n      <th>Engine Fuel Type</th>\n      <th>Engine HP</th>\n      <th>Engine Cylinders</th>\n      <th>Transmission Type</th>\n      <th>Driven_Wheels</th>\n      <th>Number of Doors</th>\n      <th>Market Category</th>\n      <th>Vehicle Size</th>\n      <th>Vehicle Style</th>\n      <th>highway MPG</th>\n      <th>city mpg</th>\n      <th>Popularity</th>\n      <th>MSRP</th>\n    </tr>\n  </thead>\n  <tbody>\n    <tr>\n      <th>0</th>\n      <td>BMW</td>\n      <td>1 Series M</td>\n      <td>2011</td>\n      <td>premium unleaded (required)</td>\n      <td>335.0</td>\n      <td>6.0</td>\n      <td>MANUAL</td>\n      <td>rear wheel drive</td>\n      <td>2.0</td>\n      <td>Factory Tuner,Luxury,High-Performance</td>\n      <td>Compact</td>\n      <td>Coupe</td>\n      <td>26</td>\n      <td>19</td>\n      <td>3916</td>\n      <td>46135</td>\n    </tr>\n    <tr>\n      <th>1</th>\n      <td>BMW</td>\n      <td>1 Series</td>\n      <td>2011</td>\n      <td>premium unleaded (required)</td>\n      <td>300.0</td>\n      <td>6.0</td>\n      <td>MANUAL</td>\n      <td>rear wheel drive</td>\n      <td>2.0</td>\n      <td>Luxury,Performance</td>\n      <td>Compact</td>\n      <td>Convertible</td>\n      <td>28</td>\n      <td>19</td>\n      <td>3916</td>\n      <td>40650</td>\n    </tr>\n    <tr>\n      <th>2</th>\n      <td>BMW</td>\n      <td>1 Series</td>\n      <td>2011</td>\n      <td>premium unleaded (required)</td>\n      <td>300.0</td>\n      <td>6.0</td>\n      <td>MANUAL</td>\n      <td>rear wheel drive</td>\n      <td>2.0</td>\n      <td>Luxury,High-Performance</td>\n      <td>Compact</td>\n      <td>Coupe</td>\n      <td>28</td>\n      <td>20</td>\n      <td>3916</td>\n      <td>36350</td>\n    </tr>\n    <tr>\n      <th>3</th>\n      <td>BMW</td>\n      <td>1 Series</td>\n      <td>2011</td>\n      <td>premium unleaded (required)</td>\n      <td>230.0</td>\n      <td>6.0</td>\n      <td>MANUAL</td>\n      <td>rear wheel drive</td>\n      <td>2.0</td>\n      <td>Luxury,Performance</td>\n      <td>Compact</td>\n      <td>Coupe</td>\n      <td>28</td>\n      <td>18</td>\n      <td>3916</td>\n      <td>29450</td>\n    </tr>\n    <tr>\n      <th>4</th>\n      <td>BMW</td>\n      <td>1 Series</td>\n      <td>2011</td>\n      <td>premium unleaded (required)</td>\n      <td>230.0</td>\n      <td>6.0</td>\n      <td>MANUAL</td>\n      <td>rear wheel drive</td>\n      <td>2.0</td>\n      <td>Luxury</td>\n      <td>Compact</td>\n      <td>Convertible</td>\n      <td>28</td>\n      <td>18</td>\n      <td>3916</td>\n      <td>34500</td>\n    </tr>\n  </tbody>\n</table>\n</div>"
     },
     "metadata": {},
     "output_type": "display_data"
    },
    {
     "name": "stdout",
     "output_type": "stream",
     "text": [
      "61546.76347305389\n"
     ]
    }
   ],
   "source": [
    "# What is the average price of a BMW\n",
    "\n",
    "# Get unique values for makes\n",
    "print(df.Make.unique())\n",
    "\n",
    "# subset those which are BMWs and display\n",
    "df_BMW = df[df.Make =='BMW']\n",
    "display(df_BMW.head())\n",
    "\n",
    "#Get average price of a BMW\n",
    "BMW_avg = df_BMW.MSRP.mean()\n",
    "print(BMW_avg)"
   ],
   "metadata": {
    "collapsed": false,
    "pycharm": {
     "name": "#%%\n"
    }
   }
  },
  {
   "cell_type": "code",
   "execution_count": 17,
   "outputs": [
    {
     "data": {
      "text/plain": "       Make       Model  Year                Engine Fuel Type  Engine HP  \\\n32     FIAT  124 Spider  2017  premium unleaded (recommended)      160.0   \n33     FIAT  124 Spider  2017  premium unleaded (recommended)      160.0   \n34     FIAT  124 Spider  2017  premium unleaded (recommended)      160.0   \n41      BMW    2 Series  2016     premium unleaded (required)      240.0   \n42      BMW    2 Series  2016     premium unleaded (required)      240.0   \n...     ...         ...   ...                             ...        ...   \n11898   BMW          Z4  2015     premium unleaded (required)      300.0   \n11899   BMW          Z4  2015     premium unleaded (required)      335.0   \n11900   BMW          Z4  2016     premium unleaded (required)      300.0   \n11901   BMW          Z4  2016     premium unleaded (required)      240.0   \n11902   BMW          Z4  2016     premium unleaded (required)      335.0   \n\n       Engine Cylinders Transmission Type     Driven_Wheels  Number of Doors  \\\n32                  4.0            MANUAL  rear wheel drive              2.0   \n33                  4.0            MANUAL  rear wheel drive              2.0   \n34                  4.0            MANUAL  rear wheel drive              2.0   \n41                  4.0         AUTOMATIC  rear wheel drive              2.0   \n42                  4.0         AUTOMATIC  rear wheel drive              2.0   \n...                 ...               ...               ...              ...   \n11898               6.0  AUTOMATED_MANUAL  rear wheel drive              2.0   \n11899               6.0  AUTOMATED_MANUAL  rear wheel drive              2.0   \n11900               6.0  AUTOMATED_MANUAL  rear wheel drive              2.0   \n11901               4.0            MANUAL  rear wheel drive              2.0   \n11902               6.0  AUTOMATED_MANUAL  rear wheel drive              2.0   \n\n               Market Category Vehicle Size Vehicle Style  highway MPG  \\\n32                 Performance      Compact   Convertible           35   \n33                 Performance      Compact   Convertible           35   \n34                 Performance      Compact   Convertible           35   \n41          Luxury,Performance      Compact         Coupe           35   \n42                      Luxury      Compact   Convertible           34   \n...                        ...          ...           ...          ...   \n11898  Luxury,High-Performance      Compact   Convertible           24   \n11899  Luxury,High-Performance      Compact   Convertible           24   \n11900  Luxury,High-Performance      Compact   Convertible           24   \n11901       Luxury,Performance      Compact   Convertible           34   \n11902  Luxury,High-Performance      Compact   Convertible           24   \n\n       city mpg  Popularity   MSRP  \n32           26         819  27495  \n33           26         819  24995  \n34           26         819  28195  \n41           23        3916  32850  \n42           23        3916  38650  \n...         ...         ...    ...  \n11898        17        3916  56950  \n11899        17        3916  65800  \n11900        17        3916  57500  \n11901        22        3916  49700  \n11902        17        3916  66350  \n\n[5995 rows x 16 columns]",
      "text/html": "<div>\n<style scoped>\n    .dataframe tbody tr th:only-of-type {\n        vertical-align: middle;\n    }\n\n    .dataframe tbody tr th {\n        vertical-align: top;\n    }\n\n    .dataframe thead th {\n        text-align: right;\n    }\n</style>\n<table border=\"1\" class=\"dataframe\">\n  <thead>\n    <tr style=\"text-align: right;\">\n      <th></th>\n      <th>Make</th>\n      <th>Model</th>\n      <th>Year</th>\n      <th>Engine Fuel Type</th>\n      <th>Engine HP</th>\n      <th>Engine Cylinders</th>\n      <th>Transmission Type</th>\n      <th>Driven_Wheels</th>\n      <th>Number of Doors</th>\n      <th>Market Category</th>\n      <th>Vehicle Size</th>\n      <th>Vehicle Style</th>\n      <th>highway MPG</th>\n      <th>city mpg</th>\n      <th>Popularity</th>\n      <th>MSRP</th>\n    </tr>\n  </thead>\n  <tbody>\n    <tr>\n      <th>32</th>\n      <td>FIAT</td>\n      <td>124 Spider</td>\n      <td>2017</td>\n      <td>premium unleaded (recommended)</td>\n      <td>160.0</td>\n      <td>4.0</td>\n      <td>MANUAL</td>\n      <td>rear wheel drive</td>\n      <td>2.0</td>\n      <td>Performance</td>\n      <td>Compact</td>\n      <td>Convertible</td>\n      <td>35</td>\n      <td>26</td>\n      <td>819</td>\n      <td>27495</td>\n    </tr>\n    <tr>\n      <th>33</th>\n      <td>FIAT</td>\n      <td>124 Spider</td>\n      <td>2017</td>\n      <td>premium unleaded (recommended)</td>\n      <td>160.0</td>\n      <td>4.0</td>\n      <td>MANUAL</td>\n      <td>rear wheel drive</td>\n      <td>2.0</td>\n      <td>Performance</td>\n      <td>Compact</td>\n      <td>Convertible</td>\n      <td>35</td>\n      <td>26</td>\n      <td>819</td>\n      <td>24995</td>\n    </tr>\n    <tr>\n      <th>34</th>\n      <td>FIAT</td>\n      <td>124 Spider</td>\n      <td>2017</td>\n      <td>premium unleaded (recommended)</td>\n      <td>160.0</td>\n      <td>4.0</td>\n      <td>MANUAL</td>\n      <td>rear wheel drive</td>\n      <td>2.0</td>\n      <td>Performance</td>\n      <td>Compact</td>\n      <td>Convertible</td>\n      <td>35</td>\n      <td>26</td>\n      <td>819</td>\n      <td>28195</td>\n    </tr>\n    <tr>\n      <th>41</th>\n      <td>BMW</td>\n      <td>2 Series</td>\n      <td>2016</td>\n      <td>premium unleaded (required)</td>\n      <td>240.0</td>\n      <td>4.0</td>\n      <td>AUTOMATIC</td>\n      <td>rear wheel drive</td>\n      <td>2.0</td>\n      <td>Luxury,Performance</td>\n      <td>Compact</td>\n      <td>Coupe</td>\n      <td>35</td>\n      <td>23</td>\n      <td>3916</td>\n      <td>32850</td>\n    </tr>\n    <tr>\n      <th>42</th>\n      <td>BMW</td>\n      <td>2 Series</td>\n      <td>2016</td>\n      <td>premium unleaded (required)</td>\n      <td>240.0</td>\n      <td>4.0</td>\n      <td>AUTOMATIC</td>\n      <td>rear wheel drive</td>\n      <td>2.0</td>\n      <td>Luxury</td>\n      <td>Compact</td>\n      <td>Convertible</td>\n      <td>34</td>\n      <td>23</td>\n      <td>3916</td>\n      <td>38650</td>\n    </tr>\n    <tr>\n      <th>...</th>\n      <td>...</td>\n      <td>...</td>\n      <td>...</td>\n      <td>...</td>\n      <td>...</td>\n      <td>...</td>\n      <td>...</td>\n      <td>...</td>\n      <td>...</td>\n      <td>...</td>\n      <td>...</td>\n      <td>...</td>\n      <td>...</td>\n      <td>...</td>\n      <td>...</td>\n      <td>...</td>\n    </tr>\n    <tr>\n      <th>11898</th>\n      <td>BMW</td>\n      <td>Z4</td>\n      <td>2015</td>\n      <td>premium unleaded (required)</td>\n      <td>300.0</td>\n      <td>6.0</td>\n      <td>AUTOMATED_MANUAL</td>\n      <td>rear wheel drive</td>\n      <td>2.0</td>\n      <td>Luxury,High-Performance</td>\n      <td>Compact</td>\n      <td>Convertible</td>\n      <td>24</td>\n      <td>17</td>\n      <td>3916</td>\n      <td>56950</td>\n    </tr>\n    <tr>\n      <th>11899</th>\n      <td>BMW</td>\n      <td>Z4</td>\n      <td>2015</td>\n      <td>premium unleaded (required)</td>\n      <td>335.0</td>\n      <td>6.0</td>\n      <td>AUTOMATED_MANUAL</td>\n      <td>rear wheel drive</td>\n      <td>2.0</td>\n      <td>Luxury,High-Performance</td>\n      <td>Compact</td>\n      <td>Convertible</td>\n      <td>24</td>\n      <td>17</td>\n      <td>3916</td>\n      <td>65800</td>\n    </tr>\n    <tr>\n      <th>11900</th>\n      <td>BMW</td>\n      <td>Z4</td>\n      <td>2016</td>\n      <td>premium unleaded (required)</td>\n      <td>300.0</td>\n      <td>6.0</td>\n      <td>AUTOMATED_MANUAL</td>\n      <td>rear wheel drive</td>\n      <td>2.0</td>\n      <td>Luxury,High-Performance</td>\n      <td>Compact</td>\n      <td>Convertible</td>\n      <td>24</td>\n      <td>17</td>\n      <td>3916</td>\n      <td>57500</td>\n    </tr>\n    <tr>\n      <th>11901</th>\n      <td>BMW</td>\n      <td>Z4</td>\n      <td>2016</td>\n      <td>premium unleaded (required)</td>\n      <td>240.0</td>\n      <td>4.0</td>\n      <td>MANUAL</td>\n      <td>rear wheel drive</td>\n      <td>2.0</td>\n      <td>Luxury,Performance</td>\n      <td>Compact</td>\n      <td>Convertible</td>\n      <td>34</td>\n      <td>22</td>\n      <td>3916</td>\n      <td>49700</td>\n    </tr>\n    <tr>\n      <th>11902</th>\n      <td>BMW</td>\n      <td>Z4</td>\n      <td>2016</td>\n      <td>premium unleaded (required)</td>\n      <td>335.0</td>\n      <td>6.0</td>\n      <td>AUTOMATED_MANUAL</td>\n      <td>rear wheel drive</td>\n      <td>2.0</td>\n      <td>Luxury,High-Performance</td>\n      <td>Compact</td>\n      <td>Convertible</td>\n      <td>24</td>\n      <td>17</td>\n      <td>3916</td>\n      <td>66350</td>\n    </tr>\n  </tbody>\n</table>\n<p>5995 rows × 16 columns</p>\n</div>"
     },
     "metadata": {},
     "output_type": "display_data"
    },
    {
     "name": "stdout",
     "output_type": "stream",
     "text": [
      "51\n"
     ]
    }
   ],
   "source": [
    "# Number of missing values in \"Engine HP\" after 2015 (including 2015)\n",
    "\n",
    "# Subset engine values after and including 2015\n",
    "df_2015 = df[df.Year >= 2015]\n",
    "display(df_2015)\n",
    "\n",
    "# Get number of missing values in Engine HP column\n",
    "HP_num_missing = df_2015['Engine HP'].isnull().sum()\n",
    "print(HP_num_missing)"
   ],
   "metadata": {
    "collapsed": false,
    "pycharm": {
     "name": "#%%\n"
    }
   }
  },
  {
   "cell_type": "code",
   "execution_count": 21,
   "outputs": [
    {
     "name": "stdout",
     "output_type": "stream",
     "text": [
      "Engine HP before fill: 249\n",
      "Engine HP after fill:  249\n"
     ]
    }
   ],
   "source": [
    "# Check if the mean of Engine HP change when na values missing\n",
    "\n",
    "# Calculate the average \"Engine HP\" in the dataset.\n",
    "avg_engine_hp = df['Engine HP'].mean()\n",
    "\n",
    "# Use the fillna method and to fill the missing values in \"Engine HP\" with the mean value from the previous step.\n",
    "df_fill = df['Engine HP'].fillna(value=avg_engine_hp)\n",
    "\n",
    "# Now, calcualte the average of \"Engine HP\" again.\n",
    "avg_engine_hp_fill = df_fill.mean()\n",
    "\n",
    "# Has it changed?\n",
    "print('Engine HP before fill: ' + str(round(avg_engine_hp)))\n",
    "print('Engine HP after fill:  ' + str(round(avg_engine_hp_fill)))"
   ],
   "metadata": {
    "collapsed": false,
    "pycharm": {
     "name": "#%%\n"
    }
   }
  },
  {
   "cell_type": "code",
   "execution_count": 34,
   "outputs": [
    {
     "name": "stdout",
     "output_type": "stream",
     "text": [
      "[[1.754801e+06 3.965600e+04 6.519600e+04]\n",
      " [3.965600e+04 9.280000e+02 1.500000e+03]\n",
      " [6.519600e+04 1.500000e+03 2.454000e+03]]\n",
      "Sum of XTX inverse: 0.032212320677486125\n"
     ]
    }
   ],
   "source": [
    "# Sum of elements of the inverse matrix\n",
    "\n",
    "# Select all the \"Rolls-Royce\" cars from the dataset.\n",
    "df_rr = df[df['Make'] == \"Rolls-Royce\"]\n",
    "\n",
    "# Select only columns \"Engine HP\", \"Engine Cylinders\", \"highway MPG\".\n",
    "df_rr_subset = df_rr[[\"Engine HP\", \"Engine Cylinders\", \"highway MPG\"]]\n",
    "\n",
    "# Now drop all duplicated rows using drop_duplicates method (you should get a dataframe with 7 rows).\n",
    "df_rr_subset = df_rr_subset.drop_duplicates()\n",
    "\n",
    "# Get the underlying NumPy array. Let's call it X.\n",
    "X = df_rr_subset.to_numpy()\n",
    "\n",
    "# Compute matrix-matrix multiplication between the transpose of X and X. To get the transpose, use X.T. Let's call the result XTX.\n",
    "XTX = np.matmul(X.T, X)\n",
    "print(XTX)\n",
    "\n",
    "# Invert XTX.\n",
    "inv_XTX = np.linalg.inv(XTX)\n",
    "\n",
    "# What's the sum of all the elements of the result?\n",
    "sum_inv_XTX = inv_XTX.sum()\n",
    "print('Sum of XTX inverse: ' + str(sum_inv_XTX))"
   ],
   "metadata": {
    "collapsed": false,
    "pycharm": {
     "name": "#%%\n"
    }
   }
  },
  {
   "cell_type": "code",
   "execution_count": 35,
   "outputs": [
    {
     "data": {
      "text/plain": "0.19989598183188972"
     },
     "execution_count": 35,
     "metadata": {},
     "output_type": "execute_result"
    }
   ],
   "source": [
    "# Normal equation\n",
    "\n",
    "# Create an array y with values [1000, 1100, 900, 1200, 1000, 850, 1300]\n",
    "y = [1000, 1100, 900, 1200, 1000, 850, 1300]\n",
    "\n",
    "# Multiply the inverse of XTX with the transpose of X, and then multiply the result by y. Call the result w\n",
    "w = np.matmul(np.matmul(inv_XTX, X.T), y)\n",
    "\n",
    "# What's the value of the first element of w?.\n",
    "w[0]"
   ],
   "metadata": {
    "collapsed": false,
    "pycharm": {
     "name": "#%%\n"
    }
   }
  },
  {
   "cell_type": "code",
   "execution_count": null,
   "outputs": [],
   "source": [],
   "metadata": {
    "collapsed": false,
    "pycharm": {
     "name": "#%%\n"
    }
   }
  }
 ],
 "metadata": {
  "kernelspec": {
   "display_name": "Python 3",
   "language": "python",
   "name": "python3"
  },
  "language_info": {
   "codemirror_mode": {
    "name": "ipython",
    "version": 2
   },
   "file_extension": ".py",
   "mimetype": "text/x-python",
   "name": "python",
   "nbconvert_exporter": "python",
   "pygments_lexer": "ipython2",
   "version": "2.7.6"
  }
 },
 "nbformat": 4,
 "nbformat_minor": 0
}